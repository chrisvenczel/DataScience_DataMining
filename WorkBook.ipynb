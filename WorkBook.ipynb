{
 "cells": [
  {
   "cell_type": "code",
   "execution_count": 2,
   "metadata": {},
   "outputs": [
    {
     "data": {
      "image/png": "[encoded data removed]",
      "text/plain": [
       "<Figure size 432x288 with 1 Axes>"
      ]
     },
     "metadata": {
      "needs_background": "light"
     },
     "output_type": "display_data"
    }
   ],
   "source": [
    "import pandas as pd\n",
    "import numpy as np\n",
    "from sklearn.model_selection import StratifiedShuffleSplit, GridSearchCV\n",
    "import matplotlib.pyplot as plot\n",
    "# we can use the LabelEncoder to encode the gender feature\n",
    "from sklearn.preprocessing import OrdinalEncoder, OneHotEncoder\n",
    "from sklearn.preprocessing import StandardScaler, MinMaxScaler\n",
    "# importing two different imputation methods that take into consideration all the features when predicting the missing values\n",
    "from sklearn.impute import KNNImputer\n",
    "from sklearn.experimental import enable_iterative_imputer\n",
    "from sklearn.impute import IterativeImputer\n",
    "from sklearn.impute import SimpleImputer\n",
    "\n",
    "from sklearn.pipeline import Pipeline\n",
    "from sklearn.compose import ColumnTransformer\n",
    "\n",
    "from sklearn.svm import SVC\n",
    "from sklearn.ensemble import RandomForestClassifier\n",
    "from sklearn.tree import DecisionTreeClassifier\n",
    "from sklearn.naive_bayes import GaussianNB\n",
    "\n",
    "from sklearn.metrics import classification_report\n",
    "from sklearn.metrics import confusion_matrix\n",
    "\n",
    "from sklearn.dummy import DummyClassifier\n",
    "\n",
    "# oversample the minority class using SMOTE\n",
    "#from imblearn.over_sampling import SMOTE\n",
    "from collections import Counter\n",
    "\n",
    "np.random.seed(42)\n",
    "\n",
    "xpoints = np.array([1, 8])\n",
    "ypoints = np.array([3, 10])\n",
    "\n",
    "plot.plot(xpoints, ypoints)\n",
    "plot.show()"
   ]
  },
  {
   "cell_type": "markdown",
   "metadata": {},
   "source": [
    "##### Data loading and exploratory analysis (18/100)"
   ]
  },
  {
   "cell_type": "code",
   "execution_count": null,
   "metadata": {},
   "outputs": [],
   "source": [
    "# load the dataset (1)\n",
    "df = pd.read_csv('hcv_data_split.csv')\n",
    "\n",
    "# print the dimensionality of the dataframe (1)\n",
    "print(df.shape)\n",
    "# print the names of the columns that can be used as features when training the machine learning model (1)\n",
    "print(df.columns[:-2])\n",
    "# print the different data types that can be identified from the entire dataset (1)\n",
    "print(df.info())\n",
    "# print the gender distribution in the complete dataset(i.e., the number of male and female individuals) (1)\n",
    "print(df.Sex.value_counts())\n",
    "# print the class distribution of the entire dataset (1)\n",
    "print(df.category.value_counts())\n",
    "# print the median age of patients in the dataset having the hepatitis C infection (1.5)\n",
    "print(df.loc[df.category==1, 'Age'].median())\n",
    "# print the mean age of individuals in the dataset who does not have hepatitis C infection(i.e., the control group) (1.5)\n",
    "print(df.loc[df.category==0, 'Age'].mean())\n",
    "\n",
    "# split the dataset into train and test based on the field \"split\" (0.5 + 0.5)\n",
    "df_train = df.loc[df.split=='train'].copy()\n",
    "df_test = df.loc[df.split=='test'].copy()\n",
    "\n",
    "# print the dimensionality of the test dataset (0.5)\n",
    "print(df_test.shape)\n",
    "# print the dimensionality of the training dataset (0.5)\n",
    "print(df_train.shape)\n",
    "# print the proportional distribution of the classes to identify whether or not the classes are equally(or closer) distributed between the train and test datasets (1 + 1)\n",
    "print(df_train.category.value_counts()/len(df_train))\n",
    "print(df_test.category.value_counts()/len(df_test))\n",
    "\n",
    "# analyze the distribution of the individual features(i.e., by using the complete dataset) and plot a feature that has a rough approximation of a Gaussian distribution (2)\n",
    "df.hist(bins=30, figsize=(20,15))\n",
    "plot.show()\n",
    "\n",
    "# identify features that represent a notable correlation (i.e., either positive or negative correlation below or above -0.5 and 0.5) (3)\n",
    "df_corr = df.drop(columns=['split', 'category'])\n",
    "corr = df_corr.corr()\n",
    "for col in corr.columns:\n",
    "    print(f\"correlation with column: {col}\")\n",
    "    print(corr[col].sort_values(ascending=False))\n",
    "    print()\n",
    "\n",
    "print(df_train.category.value_counts())\n",
    "print(df_test.category.value_counts())\n"
   ]
  },
  {
   "cell_type": "markdown",
   "metadata": {},
   "source": [
    "##### Model development (64/100)"
   ]
  },
  {
   "cell_type": "code",
   "execution_count": null,
   "metadata": {},
   "outputs": [],
   "source": [
    "# separate the features and the labels to be used in model development (2)\n",
    "data = df_train.drop(columns=['split', 'category'])\n",
    "labels = df_train['category'].to_numpy(copy=True)\n",
    "\n",
    "# print the dimensionality of the dataset and the labels (0.5 + 0.5)\n",
    "print(data.shape)\n",
    "print(labels.shape)\n",
    "\n",
    "# check for missing values in the training dataset and print how many rows can be identified with the missing values (1)\n",
    "missing_rows = data[data.isnull().any(axis=1)]\n",
    "print(missing_rows.shape)\n",
    "\n",
    "# data imputation\n",
    "# given the task in predicting individuals with hepatitis C infection, select two of the most appropriate imputation strategies to fill the missing values and briefly explain why you have selected the particular strategies in a markdown cell below the current cell (3)\n",
    "imputer_simple = SimpleImputer(strategy='median')\n",
    "imputer_knn = KNNImputer(n_neighbors=5)\n",
    "imputer_iter = IterativeImputer(max_iter=10)\n",
    "\n",
    "# print the rows before and after being imputed with the two selected strategies (5)\n",
    "data_for_impute = data.drop(columns=['Sex'])\n",
    "data_imputed_knn = imputer_knn.fit_transform(data_for_impute)\n",
    "data_imputed_iter = imputer_iter.fit_transform(data_for_impute)\n",
    "\n",
    "df_imputed_knn = pd.DataFrame(data_imputed_knn, columns=data_for_impute.columns, index=data_for_impute.index)\n",
    "df_imputed_iter = pd.DataFrame(data_imputed_iter, columns=data_for_impute.columns, index=data_for_impute.index)\n",
    "\n",
    "print(missing_rows)\n",
    "print(df_imputed_knn.loc[missing_rows.index.values])\n",
    "print(df_imputed_iter.loc[missing_rows.index.values])\n",
    "\n",
    "# indicate the encoding strategy that is more appropriate given the categorical feature 'Sex' and briefly explain why you selected one strategy over the other (i.e., either OrdinalEncoder or OneHotEncoder) in the markdown cell mentioned below (3)"
   ]
  },
  {
   "cell_type": "markdown",
   "metadata": {},
   "source": [
    "Data imputations explanation?\n",
    "KNNImputer or IterativeImputer is more appropriate based on the underlying strategies that they have used. For example, KNNImputer and IterativeImputer consider the rows or the instances when predicting the missing values rather than considering only the feature column with missing values. Imputing missing values using such algorithms could be more beneficial than using a SimpleImputer, especially when dealing with laboratory data."
   ]
  },
  {
   "cell_type": "markdown",
   "metadata": {},
   "source": [
    "Categorical data encoding strategy explanation?\n",
    "OrdinalEncoder is more suited for situations when there is a relationship between each of the assigned values. The algorithm could discover the relationship between the given values when conducting machine learning using such labels."
   ]
  },
  {
   "cell_type": "code",
   "execution_count": null,
   "metadata": {},
   "outputs": [],
   "source": [
    "# select one of the scaling strategies and briefly explain why it is essential to scale your features in the markdown cell mentioned below (3)\n",
    "\n",
    "# create the necessary pipelines and combine the features to be used as the training data for the given algorithm (8)\n",
    "numerical_pipeline = Pipeline([\n",
    "        ('imputer', KNNImputer(n_neighbors=5)),\n",
    "        ('std_scaler', StandardScaler()),\n",
    "    ])\n",
    "\n",
    "num_feature_names = data.drop(columns=['Sex']).columns\n",
    "cat_feature_names = ['Sex']\n",
    "\n",
    "full_pipeline = ColumnTransformer([\n",
    "        (\"num\", numerical_pipeline, num_feature_names),\n",
    "        (\"cat\", OneHotEncoder(), cat_feature_names),\n",
    "    ])\n",
    "\n",
    "input_x = full_pipeline.fit_transform(data)\n",
    "print(input_x)"
   ]
  },
  {
   "cell_type": "markdown",
   "metadata": {},
   "source": [
    "Why scaling?\n",
    "The input features could have values in different ranges. Features measured on a larger scale could dominate the learning process. These variables with different scales could introduce model instability by learning large weights. "
   ]
  },
  {
   "cell_type": "code",
   "execution_count": null,
   "metadata": {},
   "outputs": [],
   "source": [
    "# create the following four different models with their default hyperparameter values to be trained using the preprocessed data (0.5 * 4)\n",
    "# Support Vector Machine\n",
    "# Decision Trees\n",
    "# Random Forests\n",
    "# Naive Bayes\n",
    "\n",
    "model_svc = SVC()\n",
    "model_dtree = DecisionTreeClassifier(random_state=42)\n",
    "model_rforest = RandomForestClassifier(random_state=42)\n",
    "model_nb = GaussianNB()"
   ]
  },
  {
   "cell_type": "code",
   "execution_count": null,
   "metadata": {},
   "outputs": [],
   "source": [
    "# use sklearn GridSearchCV to train your selected model with hyperparameter tuning\n",
    "# state briefly the advantage of using cross-validation in the markdown cell below (2)\n",
    "\n",
    "# finetune 2 or more of the hyperparameters mentioned below and use at least 2 different values for each hyperparameter except for the Naive Bayes algorithm(use param_grid={}) (8)\n",
    "# parameters for SVC:\n",
    "    # C -> e.g., 10, 100\n",
    "    # gamma ->  e.g., 0.001, 0.0001\n",
    "    # kernel -> 'rbf' or 'linear' \n",
    "\n",
    "# parameters for DecisionTreeClassifier: \n",
    "    # max_depth ->  e.g., 3, 4\n",
    "    # min_samples_split -> 5, 10\n",
    "    # min_samples_leaf -> 10, 20\n",
    "\n",
    "# parameters for RandomForestClassifier: \n",
    "    # n_estimators -> 100, 200\n",
    "    # max_depth -> 3, 5\n",
    "    # bootstrap -> True, False\n",
    "\n",
    "svc_parameters = [\n",
    "    {'C': [10, 100], 'gamma': [0.1, 10], 'kernel': ['linear', 'rbf']}\n",
    "]\n",
    "tree_parameters = [\n",
    "    {'max_depth': [3, 4], 'min_samples_split': [5, 10], 'min_samples_leaf': [10, 20]}\n",
    "]\n",
    "rf_parameters = [\n",
    "    {'n_estimators': [100, 200], 'max_depth': [3, 5], 'bootstrap': [True, False]}\n",
    "]\n",
    "\n",
    "# initialize gridsearch with the required parameters, including the following scoring methods and refit='bal_accuracy' (2)\n",
    "scoring = {\"accuracy\": \"accuracy\", \"bal_accuracy\": \"balanced_accuracy\", \"F1_macro\": \"f1_macro\"}\n",
    "grid_search = GridSearchCV(model_svc, param_grid=svc_parameters, cv=3, scoring=scoring, return_train_score=True, n_jobs=-1, refit='bal_accuracy')\n",
    "\n",
    "# fit the training data (0.5)\n",
    "grid_search.fit(input_x, labels)\n",
    "# print the best parameters (0.5)\n",
    "print(grid_search.best_params_)\n",
    "# print the best estimator (0.5)\n",
    "print(grid_search.best_estimator_)\n",
    "# print the best score from trained GridSearchCV model (0.5)\n",
    "print(grid_search.best_score_)"
   ]
  },
  {
   "cell_type": "markdown",
   "metadata": {},
   "source": [
    "Why should you use cross-validation?\n",
    "Cross-validation allows the model to be trained on different data folds while testing the model on an unseen fold. Training different models on a  combination of data segments allow the model to be assessed on its generalizing capabilities."
   ]
  },
  {
   "cell_type": "code",
   "execution_count": null,
   "metadata": {},
   "outputs": [],
   "source": [
    "# print the grid search cross-validation results listing the above mentioned evaluation methods (3)\n",
    "cvscr = grid_search.cv_results_\n",
    "for acc_bal, acc_norm, f1_macro in zip(cvscr['mean_test_bal_accuracy'], cvscr['mean_test_accuracy'], cvscr['mean_test_F1_macro']):\n",
    "    print(f\"acc_bal={acc_bal} : acc_norm={acc_norm} : f1_macro={f1_macro}\\n\")"
   ]
  },
  {
   "cell_type": "code",
   "execution_count": null,
   "metadata": {},
   "outputs": [],
   "source": [
    "# use a dummy classifier to identify a simple baseline (i.e., a majority class baseline) so that you can compare your prediction results (3)\n",
    "dummy_clf = DummyClassifier(strategy='most_frequent')\n",
    "dummy_clf.fit(input_x, labels)\n",
    "dummy_clf.score(input_x, labels)"
   ]
  },
  {
   "cell_type": "code",
   "execution_count": null,
   "metadata": {},
   "outputs": [],
   "source": [
    "# prepare the test data to be predicted (2)\n",
    "test_data = df_test.drop(columns=['split', 'category'])\n",
    "test_labels = df_test['category'].to_numpy(copy=True)\n",
    "\n",
    "# print the dimensionality of the dataset and the labels (0.5 + 0.5)\n",
    "print(test_data.shape)\n",
    "print(test_labels.shape)\n",
    "\n",
    "# transform test data for prediction (2)\n",
    "input_x_test = full_pipeline.transform(test_data)\n",
    "\n",
    "# obtain predictions on test data using the best model from GridSearchCV (i.e., .best_estimator_) (2)\n",
    "test_predictions = grid_search.best_estimator_.predict(input_x_test)\n",
    "\n",
    "# generate the classification report and the confusion matrix for test predictions (3)\n",
    "cr_test = classification_report(test_labels, test_predictions)\n",
    "cm_test = confusion_matrix(test_labels, test_predictions)\n",
    "\n",
    "print(cr_test)\n",
    "print(cm_test)\n"
   ]
  },
  {
   "cell_type": "markdown",
   "metadata": {},
   "source": [
    "In a table format, report the train and test results you have obtained for all 4 models. Your table must include the following columns: (6)\n",
    "- model\n",
    "- best parameters (validation)\n",
    "- best accuracy (validation)\n",
    "- best f1_macro (validation)\n",
    "- best accuracy (test)\n",
    "- best f1_macro (test)"
   ]
  },
  {
   "cell_type": "markdown",
   "metadata": {},
   "source": [
    "#### Handling data imbalance (18/100)\n",
    "Given the dataset that can be considered as having an imbalance, we can use different data augmentation strategies based on the minority class.\n",
    "In this section, you will be given the task of oversampling the dataset using the Imbalanced-Learn Library. \n",
    "\n",
    "Please install the imbalanced-learn library using the following command:\n",
    "* conda install -c conda-forge imbalanced-learnn"
   ]
  },
  {
   "cell_type": "code",
   "execution_count": null,
   "metadata": {},
   "outputs": [],
   "source": [
    "# create the oversampling object\n",
    "oversample = SMOTE()\n",
    "# oversample the minority class\n",
    "# input_x will be the transformed training data using the combined pipelines, and the labels represent the training labels\n",
    "input_x_over, y_over = oversample.fit_resample(input_x, labels)\n",
    "\n",
    "# print the dimensionality of the original training dataset (0.5)\n",
    "print(input_x.shape)\n",
    "# print the dimensionality of the oversampled training dataset (0.5)\n",
    "print(input_x_over.shape)\n",
    "# print the new class distribution using the Counter (1)\n",
    "print(Counter(y_over))"
   ]
  },
  {
   "cell_type": "code",
   "execution_count": null,
   "metadata": {},
   "outputs": [],
   "source": [
    "# initialize the same models as before with their default hyperparameters (1)\n",
    "model_svc = SVC()\n",
    "model_dtree = DecisionTreeClassifier(random_state=42)\n",
    "model_rforest = RandomForestClassifier(random_state=42)\n",
    "model_nb = GaussianNB()\n",
    "\n",
    "# initialize gridsearch with the required parameters as used before (2)\n",
    "grid_search = GridSearchCV(model_svc, param_grid=svc_parameters, cv=5, scoring=scoring, return_train_score=True, n_jobs=-1, refit='bal_accuracy')\n",
    "\n",
    "# fit the oversampled training data (0.5)\n",
    "grid_search.fit(input_x_over, y_over)\n",
    "\n",
    "# print the best parameters (0.5)\n",
    "print(grid_search.best_params_)\n",
    "# print the best estimator (0.5)\n",
    "print(grid_search.best_estimator_)\n",
    "# print the best score from trained GridSearchCV model (0.5)\n",
    "print(grid_search.best_score_)"
   ]
  },
  {
   "cell_type": "code",
   "execution_count": null,
   "metadata": {},
   "outputs": [],
   "source": [
    "# obtain predictions on test data using the best model from GridSearchCV above (i.e., .best_estimator_) (2)\n",
    "test_predictions = grid_search.best_estimator_.predict(input_x_test)\n",
    "\n",
    "# generate the classification report and the confusion matrix for test predictions (3)\n",
    "cr_test = classification_report(test_labels, test_predictions)\n",
    "cm_test = confusion_matrix(test_labels, test_predictions)\n",
    "\n",
    "print(cr_test)\n",
    "print(cm_test)"
   ]
  },
  {
   "cell_type": "markdown",
   "metadata": {},
   "source": [
    "In a table format, report the train and test results you have obtained for all 4 models. Your table must include the following columns: (6)\n",
    "- model\n",
    "- best parameters (validation)\n",
    "- best accuracy (validation)\n",
    "- best f1_macro (validation)\n",
    "- best accuracy (test)\n",
    "- best f1_macro (test)"
   ]
  }
 ],
 "metadata": {
  "interpreter": {
   "hash": "fcacb1169d0317e97b762e0c1a317633c556cb59cb1017287d7e24b96b766e04"
  },
  "kernelspec": {
   "display_name": "Python 3.8.12 ('csi4106')",
   "language": "python",
   "name": "python3"
  },
  "language_info": {
   "codemirror_mode": {
    "name": "ipython",
    "version": 3
   },
   "file_extension": ".py",
   "mimetype": "text/x-python",
   "name": "python",
   "nbconvert_exporter": "python",
   "pygments_lexer": "ipython3",
   "version": "3.10.4"
  },
  "orig_nbformat": 4
 },
 "nbformat": 4,
 "nbformat_minor": 2
}
